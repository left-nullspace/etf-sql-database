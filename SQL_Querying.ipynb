{
 "cells": [
  {
   "cell_type": "markdown",
   "metadata": {},
   "source": [
    "## SQL Query Practise\n",
    "\n",
    "creating engine to query on"
   ]
  },
  {
   "cell_type": "code",
   "execution_count": 25,
   "metadata": {},
   "outputs": [],
   "source": [
    "import pandas as pd\n",
    "from sqlalchemy import create_engine\n",
    "\n",
    "engine = create_engine('sqlite:///etf_data.db', echo=False)  # use echo=True for debugging SQL statements"
   ]
  },
  {
   "cell_type": "markdown",
   "metadata": {},
   "source": [
    "## QUERY EXAMPLES"
   ]
  },
  {
   "cell_type": "markdown",
   "metadata": {},
   "source": [
    "LISTING ALL TABLES IN DATABASE (ETFS)"
   ]
  },
  {
   "cell_type": "code",
   "execution_count": 30,
   "metadata": {},
   "outputs": [
    {
     "name": "stdout",
     "output_type": "stream",
     "text": [
      "  name\n",
      "0  GLD\n",
      "1  SPY\n",
      "2  QQQ\n",
      "3  TLT\n",
      "4  IWM\n",
      "5  GDX\n",
      "6  SLV\n",
      "7  SMH\n",
      "8  USO\n"
     ]
    }
   ],
   "source": [
    "# List all tables in the database\n",
    "tables_query = \"SELECT name FROM sqlite_master WHERE type='table';\"\n",
    "tables = pd.read_sql(tables_query, engine)\n",
    "print(tables)"
   ]
  },
  {
   "cell_type": "markdown",
   "metadata": {},
   "source": [
    "BASIC DATA RETRIEVAL"
   ]
  },
  {
   "cell_type": "code",
   "execution_count": 31,
   "metadata": {},
   "outputs": [
    {
     "data": {
      "text/html": [
       "<div>\n",
       "<style scoped>\n",
       "    .dataframe tbody tr th:only-of-type {\n",
       "        vertical-align: middle;\n",
       "    }\n",
       "\n",
       "    .dataframe tbody tr th {\n",
       "        vertical-align: top;\n",
       "    }\n",
       "\n",
       "    .dataframe thead th {\n",
       "        text-align: right;\n",
       "    }\n",
       "</style>\n",
       "<table border=\"1\" class=\"dataframe\">\n",
       "  <thead>\n",
       "    <tr style=\"text-align: right;\">\n",
       "      <th></th>\n",
       "      <th>Date</th>\n",
       "      <th>Open</th>\n",
       "      <th>High</th>\n",
       "      <th>Low</th>\n",
       "      <th>Close</th>\n",
       "      <th>Adj Close</th>\n",
       "      <th>Volume</th>\n",
       "    </tr>\n",
       "  </thead>\n",
       "  <tbody>\n",
       "    <tr>\n",
       "      <th>0</th>\n",
       "      <td>2006-05-22 00:00:00.000000</td>\n",
       "      <td>31.583517</td>\n",
       "      <td>32.249435</td>\n",
       "      <td>31.021378</td>\n",
       "      <td>32.197544</td>\n",
       "      <td>32.197544</td>\n",
       "      <td>197100</td>\n",
       "    </tr>\n",
       "    <tr>\n",
       "      <th>1</th>\n",
       "      <td>2006-05-23 00:00:00.000000</td>\n",
       "      <td>32.647256</td>\n",
       "      <td>33.918554</td>\n",
       "      <td>32.647256</td>\n",
       "      <td>32.828869</td>\n",
       "      <td>32.828869</td>\n",
       "      <td>620900</td>\n",
       "    </tr>\n",
       "    <tr>\n",
       "      <th>2</th>\n",
       "      <td>2006-05-24 00:00:00.000000</td>\n",
       "      <td>32.111068</td>\n",
       "      <td>32.491592</td>\n",
       "      <td>31.021383</td>\n",
       "      <td>31.583523</td>\n",
       "      <td>31.583523</td>\n",
       "      <td>638600</td>\n",
       "    </tr>\n",
       "  </tbody>\n",
       "</table>\n",
       "</div>"
      ],
      "text/plain": [
       "                         Date       Open       High        Low      Close  \\\n",
       "0  2006-05-22 00:00:00.000000  31.583517  32.249435  31.021378  32.197544   \n",
       "1  2006-05-23 00:00:00.000000  32.647256  33.918554  32.647256  32.828869   \n",
       "2  2006-05-24 00:00:00.000000  32.111068  32.491592  31.021383  31.583523   \n",
       "\n",
       "   Adj Close  Volume  \n",
       "0  32.197544  197100  \n",
       "1  32.828869  620900  \n",
       "2  31.583523  638600  "
      ]
     },
     "metadata": {},
     "output_type": "display_data"
    }
   ],
   "source": [
    "query = \"\"\"\n",
    "SELECT *\n",
    "FROM GDX\n",
    "LIMIT 5;\n",
    "\"\"\"\n",
    "preview_data = pd.read_sql(query, engine)\n",
    "display(preview_data.head(3))\n"
   ]
  },
  {
   "cell_type": "markdown",
   "metadata": {},
   "source": [
    "LAST 5 CLOSING PRICES FROM GLD\n",
    "\n",
    "- DESC means descending"
   ]
  },
  {
   "cell_type": "code",
   "execution_count": 32,
   "metadata": {},
   "outputs": [
    {
     "data": {
      "text/html": [
       "<div>\n",
       "<style scoped>\n",
       "    .dataframe tbody tr th:only-of-type {\n",
       "        vertical-align: middle;\n",
       "    }\n",
       "\n",
       "    .dataframe tbody tr th {\n",
       "        vertical-align: top;\n",
       "    }\n",
       "\n",
       "    .dataframe thead th {\n",
       "        text-align: right;\n",
       "    }\n",
       "</style>\n",
       "<table border=\"1\" class=\"dataframe\">\n",
       "  <thead>\n",
       "    <tr style=\"text-align: right;\">\n",
       "      <th></th>\n",
       "      <th>Date</th>\n",
       "      <th>Close</th>\n",
       "    </tr>\n",
       "  </thead>\n",
       "  <tbody>\n",
       "    <tr>\n",
       "      <th>0</th>\n",
       "      <td>2024-08-15 00:00:00.000000</td>\n",
       "      <td>227.149994</td>\n",
       "    </tr>\n",
       "    <tr>\n",
       "      <th>1</th>\n",
       "      <td>2024-08-14 00:00:00.000000</td>\n",
       "      <td>226.199997</td>\n",
       "    </tr>\n",
       "    <tr>\n",
       "      <th>2</th>\n",
       "      <td>2024-08-13 00:00:00.000000</td>\n",
       "      <td>228.059998</td>\n",
       "    </tr>\n",
       "    <tr>\n",
       "      <th>3</th>\n",
       "      <td>2024-08-12 00:00:00.000000</td>\n",
       "      <td>228.410004</td>\n",
       "    </tr>\n",
       "    <tr>\n",
       "      <th>4</th>\n",
       "      <td>2024-08-09 00:00:00.000000</td>\n",
       "      <td>224.559998</td>\n",
       "    </tr>\n",
       "  </tbody>\n",
       "</table>\n",
       "</div>"
      ],
      "text/plain": [
       "                         Date       Close\n",
       "0  2024-08-15 00:00:00.000000  227.149994\n",
       "1  2024-08-14 00:00:00.000000  226.199997\n",
       "2  2024-08-13 00:00:00.000000  228.059998\n",
       "3  2024-08-12 00:00:00.000000  228.410004\n",
       "4  2024-08-09 00:00:00.000000  224.559998"
      ]
     },
     "metadata": {},
     "output_type": "display_data"
    }
   ],
   "source": [
    "query = \"\"\"\n",
    "SELECT Date, Close\n",
    "FROM GLD\n",
    "ORDER BY Date DESC\n",
    "LIMIT 5;\n",
    "\"\"\"\n",
    "preview_data = pd.read_sql(query, engine)\n",
    "display(preview_data.head(6))\n"
   ]
  },
  {
   "cell_type": "markdown",
   "metadata": {},
   "source": [
    "AVG VOLUME FOR EACH MONTH OF SPY"
   ]
  },
  {
   "cell_type": "code",
   "execution_count": 36,
   "metadata": {},
   "outputs": [
    {
     "data": {
      "text/html": [
       "<div>\n",
       "<style scoped>\n",
       "    .dataframe tbody tr th:only-of-type {\n",
       "        vertical-align: middle;\n",
       "    }\n",
       "\n",
       "    .dataframe tbody tr th {\n",
       "        vertical-align: top;\n",
       "    }\n",
       "\n",
       "    .dataframe thead th {\n",
       "        text-align: right;\n",
       "    }\n",
       "</style>\n",
       "<table border=\"1\" class=\"dataframe\">\n",
       "  <thead>\n",
       "    <tr style=\"text-align: right;\">\n",
       "      <th></th>\n",
       "      <th>Month</th>\n",
       "      <th>Avg_Volume</th>\n",
       "    </tr>\n",
       "  </thead>\n",
       "  <tbody>\n",
       "    <tr>\n",
       "      <th>0</th>\n",
       "      <td>2024-08</td>\n",
       "      <td>6.790146e+07</td>\n",
       "    </tr>\n",
       "    <tr>\n",
       "      <th>1</th>\n",
       "      <td>2024-07</td>\n",
       "      <td>4.720298e+07</td>\n",
       "    </tr>\n",
       "    <tr>\n",
       "      <th>2</th>\n",
       "      <td>2024-06</td>\n",
       "      <td>4.678543e+07</td>\n",
       "    </tr>\n",
       "    <tr>\n",
       "      <th>3</th>\n",
       "      <td>2024-05</td>\n",
       "      <td>5.242111e+07</td>\n",
       "    </tr>\n",
       "    <tr>\n",
       "      <th>4</th>\n",
       "      <td>2024-04</td>\n",
       "      <td>7.240791e+07</td>\n",
       "    </tr>\n",
       "    <tr>\n",
       "      <th>5</th>\n",
       "      <td>2024-03</td>\n",
       "      <td>7.366234e+07</td>\n",
       "    </tr>\n",
       "    <tr>\n",
       "      <th>6</th>\n",
       "      <td>2024-02</td>\n",
       "      <td>6.967327e+07</td>\n",
       "    </tr>\n",
       "    <tr>\n",
       "      <th>7</th>\n",
       "      <td>2024-01</td>\n",
       "      <td>8.098242e+07</td>\n",
       "    </tr>\n",
       "    <tr>\n",
       "      <th>8</th>\n",
       "      <td>2023-12</td>\n",
       "      <td>8.215540e+07</td>\n",
       "    </tr>\n",
       "    <tr>\n",
       "      <th>9</th>\n",
       "      <td>2023-11</td>\n",
       "      <td>7.142670e+07</td>\n",
       "    </tr>\n",
       "    <tr>\n",
       "      <th>10</th>\n",
       "      <td>2023-10</td>\n",
       "      <td>9.087044e+07</td>\n",
       "    </tr>\n",
       "    <tr>\n",
       "      <th>11</th>\n",
       "      <td>2023-09</td>\n",
       "      <td>7.943366e+07</td>\n",
       "    </tr>\n",
       "  </tbody>\n",
       "</table>\n",
       "</div>"
      ],
      "text/plain": [
       "      Month    Avg_Volume\n",
       "0   2024-08  6.790146e+07\n",
       "1   2024-07  4.720298e+07\n",
       "2   2024-06  4.678543e+07\n",
       "3   2024-05  5.242111e+07\n",
       "4   2024-04  7.240791e+07\n",
       "5   2024-03  7.366234e+07\n",
       "6   2024-02  6.967327e+07\n",
       "7   2024-01  8.098242e+07\n",
       "8   2023-12  8.215540e+07\n",
       "9   2023-11  7.142670e+07\n",
       "10  2023-10  9.087044e+07\n",
       "11  2023-09  7.943366e+07"
      ]
     },
     "metadata": {},
     "output_type": "display_data"
    }
   ],
   "source": [
    "query = \"\"\"\n",
    "SELECT \n",
    "    strftime('%Y-%m', Date) AS Month,\n",
    "    AVG(Volume) AS Avg_Volume\n",
    "FROM SPY\n",
    "GROUP BY Month\n",
    "ORDER BY Month DESC;\n",
    "\"\"\"\n",
    "preview_data = pd.read_sql(query, engine)\n",
    "display(preview_data.head(12))\n"
   ]
  },
  {
   "cell_type": "markdown",
   "metadata": {},
   "source": [
    "FIND DAYS WHERE PRICE CLOSED 5% HIGHER OR 5% LOWER"
   ]
  },
  {
   "cell_type": "code",
   "execution_count": 50,
   "metadata": {},
   "outputs": [
    {
     "data": {
      "text/html": [
       "<div>\n",
       "<style scoped>\n",
       "    .dataframe tbody tr th:only-of-type {\n",
       "        vertical-align: middle;\n",
       "    }\n",
       "\n",
       "    .dataframe tbody tr th {\n",
       "        vertical-align: top;\n",
       "    }\n",
       "\n",
       "    .dataframe thead th {\n",
       "        text-align: right;\n",
       "    }\n",
       "</style>\n",
       "<table border=\"1\" class=\"dataframe\">\n",
       "  <thead>\n",
       "    <tr style=\"text-align: right;\">\n",
       "      <th></th>\n",
       "      <th>Date</th>\n",
       "      <th>Open</th>\n",
       "      <th>Close</th>\n",
       "      <th>Price_Increase_Percentage</th>\n",
       "    </tr>\n",
       "  </thead>\n",
       "  <tbody>\n",
       "    <tr>\n",
       "      <th>0</th>\n",
       "      <td>2008-09-17 00:00:00.000000</td>\n",
       "      <td>77.110001</td>\n",
       "      <td>85.459999</td>\n",
       "      <td>10.828684</td>\n",
       "    </tr>\n",
       "    <tr>\n",
       "      <th>1</th>\n",
       "      <td>2013-09-18 00:00:00.000000</td>\n",
       "      <td>125.320000</td>\n",
       "      <td>132.009995</td>\n",
       "      <td>5.338330</td>\n",
       "    </tr>\n",
       "    <tr>\n",
       "      <th>2</th>\n",
       "      <td>2012-02-29 00:00:00.000000</td>\n",
       "      <td>173.190002</td>\n",
       "      <td>164.289993</td>\n",
       "      <td>-5.138870</td>\n",
       "    </tr>\n",
       "    <tr>\n",
       "      <th>3</th>\n",
       "      <td>2008-10-10 00:00:00.000000</td>\n",
       "      <td>89.589996</td>\n",
       "      <td>83.220001</td>\n",
       "      <td>-7.110163</td>\n",
       "    </tr>\n",
       "  </tbody>\n",
       "</table>\n",
       "</div>"
      ],
      "text/plain": [
       "                         Date        Open       Close  \\\n",
       "0  2008-09-17 00:00:00.000000   77.110001   85.459999   \n",
       "1  2013-09-18 00:00:00.000000  125.320000  132.009995   \n",
       "2  2012-02-29 00:00:00.000000  173.190002  164.289993   \n",
       "3  2008-10-10 00:00:00.000000   89.589996   83.220001   \n",
       "\n",
       "   Price_Increase_Percentage  \n",
       "0                  10.828684  \n",
       "1                   5.338330  \n",
       "2                  -5.138870  \n",
       "3                  -7.110163  "
      ]
     },
     "metadata": {},
     "output_type": "display_data"
    }
   ],
   "source": [
    "query = \"\"\"\n",
    "SELECT Date, Open, Close,\n",
    "    ((Close - Open) / Open * 100) AS Price_Increase_Percentage\n",
    "FROM GLD\n",
    "WHERE ((Close - Open) / Open * 100) > 5\n",
    "   OR ((Close - Open) / Open * 100) < -5\n",
    "ORDER BY Price_Increase_Percentage DESC;\n",
    "\"\"\"\n",
    "preview_data = pd.read_sql(query, engine)\n",
    "display(preview_data.head(5))\n"
   ]
  }
 ],
 "metadata": {
  "kernelspec": {
   "display_name": "virtualenv",
   "language": "python",
   "name": "python3"
  },
  "language_info": {
   "codemirror_mode": {
    "name": "ipython",
    "version": 3
   },
   "file_extension": ".py",
   "mimetype": "text/x-python",
   "name": "python",
   "nbconvert_exporter": "python",
   "pygments_lexer": "ipython3",
   "version": "3.9.17"
  },
  "orig_nbformat": 4
 },
 "nbformat": 4,
 "nbformat_minor": 2
}
